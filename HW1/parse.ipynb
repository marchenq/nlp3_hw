{
 "cells": [
  {
   "cell_type": "markdown",
   "metadata": {
    "tags": []
   },
   "source": [
    "#### Импорт необходимых модулей"
   ]
  },
  {
   "cell_type": "code",
   "execution_count": 1,
   "metadata": {
    "tags": []
   },
   "outputs": [],
   "source": [
    "from selenium import webdriver\n",
    "from selenium.webdriver.common.by import By\n",
    "from selenium.webdriver.support.ui import WebDriverWait\n",
    "from selenium.webdriver.support import expected_conditions as ec\n",
    "from bs4 import BeautifulSoup\n",
    "import sqlite3"
   ]
  },
  {
   "cell_type": "markdown",
   "metadata": {},
   "source": [
    "#### Подключение к базе данных"
   ]
  },
  {
   "cell_type": "code",
   "execution_count": 2,
   "metadata": {
    "tags": []
   },
   "outputs": [],
   "source": [
    "conn = sqlite3.connect('reviews.db')\n",
    "cur = conn.cursor()"
   ]
  },
  {
   "cell_type": "markdown",
   "metadata": {},
   "source": [
    "#### Получение отзывов с сайта IMDB\n",
    "\n",
    "Поскольку отзывов на одной страницы меньше, чем нужно нам, воспользуемся Selenium для имитации нажатия кнопки \"Load more\" внизу страницы. В зависимости от того, парсим мы наши \"обучающие\" или \"тестовые\" отзывы, определим число итераций: по 20 страниц положительных и отрицательных отзывов на Интерстеллар, на котором будем обучаться, и по 5 страниц положительных и отрицательных отзывов для Марсианина, на котором будем проверять модель."
   ]
  },
  {
   "cell_type": "code",
   "execution_count": 3,
   "metadata": {
    "tags": []
   },
   "outputs": [],
   "source": [
    "def getReviews(url, polarity, mode, pages):\n",
    "    driver = webdriver.Edge(r'C:\\Users\\Igor\\Desktop\\py_hw\\test\\msedgedriver.exe')\n",
    "    wait = WebDriverWait(driver, 10)\n",
    "    driver.get(url)\n",
    "    soup = BeautifulSoup(driver.page_source, 'lxml')\n",
    "\n",
    "    i = 0\n",
    "    while i < pages:\n",
    "        i += 1\n",
    "        try:\n",
    "            driver.find_element_by_css_selector('button#load-more-trigger').click()\n",
    "            wait.until(ec.invisibility_of_element_located((By.CSS_SELECTOR, '.ipl-load-more__load-indicator')))\n",
    "            soup = BeautifulSoup(driver.page_source, 'lxml')\n",
    "        except:\n",
    "            pass\n",
    "\n",
    "    for elem in soup.find_all(class_='imdb-user-review'):\n",
    "        try:\n",
    "            review = elem.find(class_='text show-more__control').get_text(strip=True)\n",
    "            if mode == 'reviews':\n",
    "                cur.execute('INSERT INTO reviews VALUES (?, ?)', (review, polarity))\n",
    "                conn.commit()\n",
    "            if mode == 'test':\n",
    "                cur.execute('INSERT INTO test VALUES (?, ?)', (review, polarity))\n",
    "                conn.commit()\n",
    "        except:\n",
    "            pass\n",
    "\n",
    "    driver.quit()"
   ]
  },
  {
   "cell_type": "markdown",
   "metadata": {},
   "source": [
    "Запишем полученные отзывы в базу данных, чтобы не парсить каждый раз всё заново и не нарваться на блокировку: в таблице reviews будем хранить обучающие отзывы, а в таблице test - отзывы, полярность которых будем пытаться предсказать."
   ]
  },
  {
   "cell_type": "code",
   "execution_count": 4,
   "metadata": {
    "tags": []
   },
   "outputs": [],
   "source": [
    "getReviews('https://www.imdb.com/title/tt0816692/reviews?spoiler=hide&sort=submissionDate&dir=desc&ratingFilter=10',\n",
    "           'pos', 'reviews', 20)\n",
    "getReviews('https://www.imdb.com/title/tt0816692/reviews?spoiler=hide&sort=submissionDate&dir=desc&ratingFilter=1',\n",
    "           'neg', 'reviews', 20)\n",
    "\n",
    "getReviews('https://www.imdb.com/title/tt3659388/reviews?spoiler=hide&sort=helpfulnessScore&dir=desc&ratingFilter=10',\n",
    "           'pos', 'test', 5)\n",
    "getReviews('https://www.imdb.com/title/tt3659388/reviews?spoiler=hide&sort=helpfulnessScore&dir=desc&ratingFilter=1',\n",
    "           'neg', 'test', 5)"
   ]
  }
 ],
 "metadata": {
  "kernelspec": {
   "display_name": "Python 3",
   "language": "python",
   "name": "python3"
  },
  "language_info": {
   "codemirror_mode": {
    "name": "ipython",
    "version": 3
   },
   "file_extension": ".py",
   "mimetype": "text/x-python",
   "name": "python",
   "nbconvert_exporter": "python",
   "pygments_lexer": "ipython3",
   "version": "3.9.1"
  }
 },
 "nbformat": 4,
 "nbformat_minor": 4
}
